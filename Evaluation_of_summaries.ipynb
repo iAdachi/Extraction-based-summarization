{
  "nbformat": 4,
  "nbformat_minor": 0,
  "metadata": {
    "colab": {
      "provenance": []
    },
    "kernelspec": {
      "name": "python3",
      "display_name": "Python 3"
    },
    "language_info": {
      "name": "python"
    }
  },
  "cells": [
    {
      "cell_type": "markdown",
      "source": [
        "# **Resumen automático**\n",
        "\n",
        "Práctica de NLP para evaluar la calidad de resúmenes generados de manera automática con ROUGE score.\n",
        "\n",
        "**Por:** Martínez Cadena Gustavo\n",
        "\n",
        "---"
      ],
      "metadata": {
        "id": "hvjThKFLz9Mj"
      }
    },
    {
      "cell_type": "markdown",
      "source": [
        "## **TF-IDF**"
      ],
      "metadata": {
        "id": "chw3OItw1fNL"
      }
    },
    {
      "cell_type": "code",
      "source": [
        "from sklearn.feature_extraction.text import TfidfVectorizer\n",
        "import numpy as np\n",
        "import nltk\n",
        "import re\n",
        "import string\n",
        "from nltk.stem import SnowballStemmer\n",
        "from nltk.corpus import stopwords\n",
        "from nltk.tokenize import word_tokenize"
      ],
      "metadata": {
        "id": "skkoYAJK1mQX"
      },
      "execution_count": null,
      "outputs": []
    },
    {
      "cell_type": "code",
      "source": [
        "def cargar_texto(path: str) -> str:\n",
        "  with open(path, \"r\") as archivo:\n",
        "    texto = archivo.read()\n",
        "  return texto"
      ],
      "metadata": {
        "id": "NBoG8UMf2vrG"
      },
      "execution_count": null,
      "outputs": []
    },
    {
      "cell_type": "code",
      "source": [
        "def crear_oracion(texto:str) -> list[str]:\n",
        "  texto_por_oracion = []\n",
        "  oracion = \"\"\n",
        "  for letra in texto:\n",
        "    if letra == \".\":\n",
        "      texto_por_oracion.append(oracion.strip()) # quita espacio inicial\n",
        "      oracion = \"\"\n",
        "    else:\n",
        "      oracion += letra\n",
        "\n",
        "  return texto_por_oracion"
      ],
      "metadata": {
        "id": "oJZay77m2bm1"
      },
      "execution_count": null,
      "outputs": []
    },
    {
      "cell_type": "code",
      "source": [
        "def no_caracter_especial(texto: str) -> str:\n",
        "  limpiar = re.findall(r\"[^-_—¡!¿?'.,;:1234567890“”\\[\\]\\\"`]\", texto) # quita los caracteres especiales con expresión regular\n",
        "  return ''.join(limpiar) # list[str] -> str"
      ],
      "metadata": {
        "id": "Ku857qn42ekN"
      },
      "execution_count": null,
      "outputs": []
    },
    {
      "cell_type": "code",
      "source": [
        "def preprocesar(texto: str) -> list[str]:\n",
        "  # normalizar\n",
        "  texto = texto.lower()\n",
        "  # quitar caracteres especiales\n",
        "  texto = no_caracter_especial(texto)\n",
        "  # tokenizar\n",
        "  nltk.download('punkt_tab')\n",
        "  tokens = word_tokenize(texto, language=\"spanish\")\n",
        "  # stopwords\n",
        "  nltk.download(\"stopwords\")\n",
        "  stopwords_esp = set(stopwords.words(\"spanish\"))\n",
        "  no_stopwords = []\n",
        "\n",
        "  for palabra in tokens:\n",
        "    if palabra not in stopwords_esp:\n",
        "      no_stopwords.append(palabra)\n",
        "  #stemming\n",
        "  spanish_stemmer = SnowballStemmer('spanish')\n",
        "  texto_stemming = []\n",
        "  for palabra in no_stopwords:\n",
        "    texto_stemming.append(spanish_stemmer.stem(palabra))\n",
        "\n",
        "  return texto_stemming"
      ],
      "metadata": {
        "id": "XGCzLo432luL"
      },
      "execution_count": null,
      "outputs": []
    },
    {
      "cell_type": "code",
      "source": [
        "def tf_idf(corpus: list[str]):\n",
        "  vectorizer = TfidfVectorizer()\n",
        "  X = vectorizer.fit_transform(corpus)\n",
        "  return vectorizer.get_feature_names_out(), X.toarray()"
      ],
      "metadata": {
        "id": "n3S_3kiV1p57"
      },
      "execution_count": null,
      "outputs": []
    },
    {
      "cell_type": "code",
      "source": [
        "def resumen_tf_idf(path: str)-> str:\n",
        "  # Cargar txt y dividirlo por oraciones\n",
        "  texto = cargar_texto(path)\n",
        "  dividir_por_oracion = crear_oracion(texto)\n",
        "\n",
        "  # preprocesamiento de texto por oraciones\n",
        "  texto_preprocesado = []\n",
        "  for oracion in dividir_por_oracion:\n",
        "    texto_preprocesado.append(preprocesar(oracion))\n",
        "\n",
        "  # List[List[str]] -> list[str]\n",
        "  lista_oraciones = []\n",
        "  for oracion in texto_preprocesado:\n",
        "    lista_oraciones.append(' '.join(oracion))\n",
        "\n",
        "  # TF-IDF\n",
        "  lista_palabras, X = tf_idf(lista_oraciones)\n",
        "\n",
        "  # Media de score\n",
        "  filas, columnas = X.shape\n",
        "  score_media = []\n",
        "  for i in range(filas):\n",
        "    elementos_diferentes_0 = 0\n",
        "    suma_score = 0\n",
        "    for j in range(columnas):\n",
        "      if X[i, j] != 0:\n",
        "        suma_score += X[i, j]\n",
        "        elementos_diferentes_0 += 1\n",
        "    if elementos_diferentes_0 > 0:\n",
        "      score_media.append(suma_score/elementos_diferentes_0)\n",
        "    else:\n",
        "      score_media.append(0)\n",
        "\n",
        "  idx_doc_relevante = np.argsort(-np.array(score_media)) # obtener índices ordenados por relevancia\n",
        "  sublista = idx_doc_relevante[:26] # Número de índices arbitrario [NOTA] crear método para calcular este número automáticamente\n",
        "  sublista = np.sort(sublista) # Se ordena la sublista para evitar que se pierda el sentido del texto\n",
        "\n",
        "  # Generar resumen\n",
        "  resumen= \"\"\n",
        "  for indice in sublista:\n",
        "    resumen += dividir_por_oracion[indice] + \". \"\n",
        "\n",
        "  return resumen"
      ],
      "metadata": {
        "id": "QEQr6-pA1shV"
      },
      "execution_count": null,
      "outputs": []
    },
    {
      "cell_type": "markdown",
      "source": [
        "## **Resumen basado en las oraciones más largas**"
      ],
      "metadata": {
        "id": "IESPHaJp_tSj"
      }
    },
    {
      "cell_type": "code",
      "source": [
        "from nltk.tokenize import sent_tokenize\n",
        "nltk.download('punkt')\n",
        "\n",
        "def resumen_oracion_larga(path: str, n=4):\n",
        "    texto = cargar_texto(path)\n",
        "    # Genera un resumen automático seleccionando las n oraciones más largas.\n",
        "    oraciones = sent_tokenize(texto)\n",
        "    oraciones_ordenadas = sorted(oraciones, key=lambda x: len(x), reverse=True)\n",
        "    resumen = ' '.join(oraciones_ordenadas[:n])\n",
        "    return resumen"
      ],
      "metadata": {
        "colab": {
          "base_uri": "https://localhost:8080/"
        },
        "id": "Wt_9PUnp_1of",
        "outputId": "e842016b-2aa0-4e9b-9634-0e097fa10197"
      },
      "execution_count": null,
      "outputs": [
        {
          "output_type": "stream",
          "name": "stderr",
          "text": [
            "[nltk_data] Downloading package punkt to /root/nltk_data...\n",
            "[nltk_data]   Package punkt is already up-to-date!\n"
          ]
        }
      ]
    },
    {
      "cell_type": "markdown",
      "source": [
        "## **Evaluación de resumen**"
      ],
      "metadata": {
        "id": "gwDSRChs153e"
      }
    },
    {
      "cell_type": "markdown",
      "source": [
        "**Rouge** (Recall-Oriented Understudy for Gisting Evaluation) es una métrica para evaluar la calidad de los resúmenes generados de manera automática. Esta evaluación compara el resumen generado automáticamente con uno de referencia.\n",
        "\n",
        "\n",
        "1.   **Rouge-1:** Coincidencia de palabras.\n",
        "2.   **Rouge-2:** Coincidencia de pares de palabras.\n",
        "3.   **Rouge-L:** Coincidencia en la secuencia de palabras más larga.\n",
        "\n"
      ],
      "metadata": {
        "id": "lfZsnRGvJDAj"
      }
    },
    {
      "cell_type": "code",
      "source": [
        "from rouge_score import rouge_scorer"
      ],
      "metadata": {
        "id": "dO1Hd_LAzZtj"
      },
      "execution_count": null,
      "outputs": []
    },
    {
      "cell_type": "code",
      "source": [
        "def evaluar_resumen(resumen_generado: str, resumen_referencia: str):\n",
        "    scorer = rouge_scorer.RougeScorer(['rouge1', 'rouge2', 'rougeL'], use_stemmer=True)\n",
        "    scores = scorer.score(resumen_referencia, resumen_generado)\n",
        "    return scores"
      ],
      "metadata": {
        "id": "QOf2vMiLzqAA"
      },
      "execution_count": null,
      "outputs": []
    },
    {
      "cell_type": "code",
      "source": [
        "def imprimir_resultados(resultados):\n",
        "  # Evaluación de resúmenes\n",
        "  print(\"\\nResultados de evaluación ROUGE:\\n\")\n",
        "  for metrica, score in resultados.items():\n",
        "      print(f\"{metrica}:\")\n",
        "      print(f\"  Precisión: {score.precision:.2f}\")\n",
        "      print(f\"  Recall: {score.recall:.2f}\")\n",
        "      print(f\"  F1-Score: {score.fmeasure:.2f}\\n\")"
      ],
      "metadata": {
        "id": "3RRJ42pKAELH"
      },
      "execution_count": null,
      "outputs": []
    },
    {
      "cell_type": "code",
      "source": [
        "# Main ==========================================================\n",
        "# path\n",
        "path_original = \"/content/texto_original.txt\"\n",
        "path_referencia = \"/content/resumen_referencia.txt\"\n",
        "\n",
        "# Obtener resumen\n",
        "resultado_tf_idf = resumen_tf_idf(path_original)\n",
        "resultado_oracion_larga = resumen_oracion_larga(path_original)\n",
        "resumen_referencia = cargar_texto(path_referencia)\n"
      ],
      "metadata": {
        "colab": {
          "base_uri": "https://localhost:8080/"
        },
        "collapsed": true,
        "id": "jwBIAQHR0mC9",
        "outputId": "1cf81ed9-f188-434a-dcd1-a24cdbcf8a09"
      },
      "execution_count": null,
      "outputs": [
        {
          "output_type": "stream",
          "name": "stderr",
          "text": [
            "[nltk_data] Downloading package punkt_tab to /root/nltk_data...\n",
            "[nltk_data]   Package punkt_tab is already up-to-date!\n",
            "[nltk_data] Downloading package stopwords to /root/nltk_data...\n",
            "[nltk_data]   Package stopwords is already up-to-date!\n",
            "[nltk_data] Downloading package punkt_tab to /root/nltk_data...\n",
            "[nltk_data]   Package punkt_tab is already up-to-date!\n",
            "[nltk_data] Downloading package stopwords to /root/nltk_data...\n",
            "[nltk_data]   Package stopwords is already up-to-date!\n",
            "[nltk_data] Downloading package punkt_tab to /root/nltk_data...\n",
            "[nltk_data]   Package punkt_tab is already up-to-date!\n",
            "[nltk_data] Downloading package stopwords to /root/nltk_data...\n",
            "[nltk_data]   Package stopwords is already up-to-date!\n",
            "[nltk_data] Downloading package punkt_tab to /root/nltk_data...\n",
            "[nltk_data]   Package punkt_tab is already up-to-date!\n",
            "[nltk_data] Downloading package stopwords to /root/nltk_data...\n",
            "[nltk_data]   Package stopwords is already up-to-date!\n",
            "[nltk_data] Downloading package punkt_tab to /root/nltk_data...\n",
            "[nltk_data]   Package punkt_tab is already up-to-date!\n",
            "[nltk_data] Downloading package stopwords to /root/nltk_data...\n",
            "[nltk_data]   Package stopwords is already up-to-date!\n",
            "[nltk_data] Downloading package punkt_tab to /root/nltk_data...\n",
            "[nltk_data]   Package punkt_tab is already up-to-date!\n",
            "[nltk_data] Downloading package stopwords to /root/nltk_data...\n",
            "[nltk_data]   Package stopwords is already up-to-date!\n",
            "[nltk_data] Downloading package punkt_tab to /root/nltk_data...\n",
            "[nltk_data]   Package punkt_tab is already up-to-date!\n",
            "[nltk_data] Downloading package stopwords to /root/nltk_data...\n",
            "[nltk_data]   Package stopwords is already up-to-date!\n",
            "[nltk_data] Downloading package punkt_tab to /root/nltk_data...\n",
            "[nltk_data]   Package punkt_tab is already up-to-date!\n",
            "[nltk_data] Downloading package stopwords to /root/nltk_data...\n",
            "[nltk_data]   Package stopwords is already up-to-date!\n",
            "[nltk_data] Downloading package punkt_tab to /root/nltk_data...\n",
            "[nltk_data]   Package punkt_tab is already up-to-date!\n",
            "[nltk_data] Downloading package stopwords to /root/nltk_data...\n",
            "[nltk_data]   Package stopwords is already up-to-date!\n",
            "[nltk_data] Downloading package punkt_tab to /root/nltk_data...\n",
            "[nltk_data]   Package punkt_tab is already up-to-date!\n",
            "[nltk_data] Downloading package stopwords to /root/nltk_data...\n",
            "[nltk_data]   Package stopwords is already up-to-date!\n",
            "[nltk_data] Downloading package punkt_tab to /root/nltk_data...\n",
            "[nltk_data]   Package punkt_tab is already up-to-date!\n",
            "[nltk_data] Downloading package stopwords to /root/nltk_data...\n",
            "[nltk_data]   Package stopwords is already up-to-date!\n",
            "[nltk_data] Downloading package punkt_tab to /root/nltk_data...\n",
            "[nltk_data]   Package punkt_tab is already up-to-date!\n",
            "[nltk_data] Downloading package stopwords to /root/nltk_data...\n",
            "[nltk_data]   Package stopwords is already up-to-date!\n",
            "[nltk_data] Downloading package punkt_tab to /root/nltk_data...\n",
            "[nltk_data]   Package punkt_tab is already up-to-date!\n",
            "[nltk_data] Downloading package stopwords to /root/nltk_data...\n",
            "[nltk_data]   Package stopwords is already up-to-date!\n"
          ]
        }
      ]
    },
    {
      "cell_type": "markdown",
      "source": [
        "### **Impresión de resultados**"
      ],
      "metadata": {
        "id": "z3lfEeVIDuAd"
      }
    },
    {
      "cell_type": "code",
      "source": [
        "resultado_oracion_larga"
      ],
      "metadata": {
        "colab": {
          "base_uri": "https://localhost:8080/",
          "height": 87
        },
        "id": "Febi_jcR8tVL",
        "outputId": "b3f53daf-2105-442c-c13e-d764ff7f04fd"
      },
      "execution_count": null,
      "outputs": [
        {
          "output_type": "execute_result",
          "data": {
            "text/plain": [
              "'Había una vez una niña muy querida por su madre y su abuela, quienes le regalaron una capa roja que le sentaba tan bien que todos la llamaban Caperucita Roja. El lobo, con gran amabilidad, le preguntó a dónde iba, y la niña, olvidando la advertencia de su madre, le contó que iba a casa de su abuela. Un día, su madre le pidió que llevara una cesta con pasteles y mantequilla a su abuela enferma, que vivía al otro lado del bosque.'"
            ],
            "application/vnd.google.colaboratory.intrinsic+json": {
              "type": "string"
            }
          },
          "metadata": {},
          "execution_count": 46
        }
      ]
    },
    {
      "cell_type": "code",
      "source": [
        "resultado_tf_idf"
      ],
      "metadata": {
        "colab": {
          "base_uri": "https://localhost:8080/",
          "height": 87
        },
        "id": "bjNqVFiLB7Og",
        "outputId": "cffeea55-dd31-4b29-f57a-cb192e90f5c2"
      },
      "execution_count": null,
      "outputs": [
        {
          "output_type": "execute_result",
          "data": {
            "text/plain": [
              "'Antes de salir, su madre le advirtió que no hablara con extraños ni se apartara del camino. Al llegar, el lobo devoró a la abuela y se disfrazó con su ropa para engañar a la niña. Antes de que pudiera reaccionar, el lobo la devoró también. Agradecidas, llenaron el vientre del lobo con piedras pesadas, y cuando despertó, cayó muerto. Desde entonces, Caperucita Roja prometió no desobedecer las advertencias de su madre nunca más. '"
            ],
            "application/vnd.google.colaboratory.intrinsic+json": {
              "type": "string"
            }
          },
          "metadata": {},
          "execution_count": 54
        }
      ]
    },
    {
      "cell_type": "code",
      "source": [
        "resumen_referencia"
      ],
      "metadata": {
        "colab": {
          "base_uri": "https://localhost:8080/",
          "height": 70
        },
        "id": "LEbw3xQB8wOg",
        "outputId": "f040f7b7-f4bb-4390-c713-20c98219f60f"
      },
      "execution_count": null,
      "outputs": [
        {
          "output_type": "execute_result",
          "data": {
            "text/plain": [
              "'Caperucita Roja, una niña querida por su familia, es enviada a casa de su abuela enferma cruzando el bosque.\\nEn el camino, desobedece a su madre y habla con un lobo que, engañándola, llega primero a la casa, devora a la abuela y después a Caperucita.\\nUn cazador salva a ambas cortando el vientre del lobo. La niña aprende la lección de no hablar con extraños.'"
            ],
            "application/vnd.google.colaboratory.intrinsic+json": {
              "type": "string"
            }
          },
          "metadata": {},
          "execution_count": 25
        }
      ]
    },
    {
      "cell_type": "code",
      "source": [
        "resultados_1 = evaluar_resumen(resultado_tf_idf, resumen_referencia)\n",
        "resultados_2 = evaluar_resumen(resultado_oracion_larga, resumen_referencia)"
      ],
      "metadata": {
        "id": "0jcgNovYCrTO"
      },
      "execution_count": null,
      "outputs": []
    },
    {
      "cell_type": "code",
      "source": [
        "imprimir_resultados(resultados_1)"
      ],
      "metadata": {
        "colab": {
          "base_uri": "https://localhost:8080/"
        },
        "id": "6ZS0QupsEA0S",
        "outputId": "556baa99-68bc-4281-9680-d4732bb92ee3"
      },
      "execution_count": null,
      "outputs": [
        {
          "output_type": "stream",
          "name": "stdout",
          "text": [
            "\n",
            "Resultados de evaluación ROUGE:\n",
            "\n",
            "rouge1:\n",
            "  Precisión: 0.47\n",
            "  Recall: 0.51\n",
            "  F1-Score: 0.49\n",
            "\n",
            "rouge2:\n",
            "  Precisión: 0.19\n",
            "  Recall: 0.21\n",
            "  F1-Score: 0.20\n",
            "\n",
            "rougeL:\n",
            "  Precisión: 0.20\n",
            "  Recall: 0.22\n",
            "  F1-Score: 0.21\n",
            "\n"
          ]
        }
      ]
    },
    {
      "cell_type": "code",
      "source": [
        "imprimir_resultados(resultados_2)"
      ],
      "metadata": {
        "colab": {
          "base_uri": "https://localhost:8080/"
        },
        "id": "0fWEikmbEGPs",
        "outputId": "93b49cba-b4df-4771-85e0-0ea694ba76db"
      },
      "execution_count": null,
      "outputs": [
        {
          "output_type": "stream",
          "name": "stdout",
          "text": [
            "\n",
            "Resultados de evaluación ROUGE:\n",
            "\n",
            "rouge1:\n",
            "  Precisión: 0.43\n",
            "  Recall: 0.53\n",
            "  F1-Score: 0.47\n",
            "\n",
            "rouge2:\n",
            "  Precisión: 0.17\n",
            "  Recall: 0.21\n",
            "  F1-Score: 0.19\n",
            "\n",
            "rougeL:\n",
            "  Precisión: 0.22\n",
            "  Recall: 0.28\n",
            "  F1-Score: 0.25\n",
            "\n"
          ]
        }
      ]
    },
    {
      "cell_type": "markdown",
      "source": [
        "### **Prueba con otro texto**"
      ],
      "metadata": {
        "id": "QuFI2Z1P3AjI"
      }
    },
    {
      "cell_type": "markdown",
      "source": [
        "**Texto original:** Breve historia de Facebook: 20 años entre la innovación y la polémica\n",
        "\n",
        "**De:** National Geographic\n",
        "\n",
        "**Link:** https://www.nationalgeographic.com.es/mundo-ng/breve-historia-facebook-20-anos-entre-innovacion-polemica_21537"
      ],
      "metadata": {
        "id": "3TFPwXjk7o59"
      }
    },
    {
      "cell_type": "code",
      "source": [
        "# path\n",
        "path_original = \"/content/Breve historia de Facebook.txt\"\n",
        "path_referencia = \"/content/resumen_referencia_facebook.txt\"\n",
        "\n",
        "# Obtener resumen\n",
        "resultado_tf_idf = resumen_tf_idf(path_original)\n",
        "resultado_oracion_larga = resumen_oracion_larga(path_original)\n",
        "resumen_referencia = cargar_texto(path_referencia)\n",
        "\n",
        "resultados_1 = evaluar_resumen(resultado_tf_idf, resumen_referencia)\n",
        "resultados_2 = evaluar_resumen(resultado_oracion_larga, resumen_referencia)"
      ],
      "metadata": {
        "colab": {
          "base_uri": "https://localhost:8080/"
        },
        "collapsed": true,
        "id": "UHKp7IFn3Hsw",
        "outputId": "e9f8982f-61cd-455b-c86b-4e020dca3bba"
      },
      "execution_count": null,
      "outputs": [
        {
          "output_type": "stream",
          "name": "stderr",
          "text": [
            "[nltk_data] Downloading package punkt_tab to /root/nltk_data...\n",
            "[nltk_data]   Package punkt_tab is already up-to-date!\n",
            "[nltk_data] Downloading package stopwords to /root/nltk_data...\n",
            "[nltk_data]   Package stopwords is already up-to-date!\n",
            "[nltk_data] Downloading package punkt_tab to /root/nltk_data...\n",
            "[nltk_data]   Package punkt_tab is already up-to-date!\n",
            "[nltk_data] Downloading package stopwords to /root/nltk_data...\n",
            "[nltk_data]   Package stopwords is already up-to-date!\n",
            "[nltk_data] Downloading package punkt_tab to /root/nltk_data...\n",
            "[nltk_data]   Package punkt_tab is already up-to-date!\n",
            "[nltk_data] Downloading package stopwords to /root/nltk_data...\n",
            "[nltk_data]   Package stopwords is already up-to-date!\n",
            "[nltk_data] Downloading package punkt_tab to /root/nltk_data...\n",
            "[nltk_data]   Package punkt_tab is already up-to-date!\n",
            "[nltk_data] Downloading package stopwords to /root/nltk_data...\n",
            "[nltk_data]   Package stopwords is already up-to-date!\n",
            "[nltk_data] Downloading package punkt_tab to /root/nltk_data...\n",
            "[nltk_data]   Package punkt_tab is already up-to-date!\n",
            "[nltk_data] Downloading package stopwords to /root/nltk_data...\n",
            "[nltk_data]   Package stopwords is already up-to-date!\n",
            "[nltk_data] Downloading package punkt_tab to /root/nltk_data...\n",
            "[nltk_data]   Package punkt_tab is already up-to-date!\n",
            "[nltk_data] Downloading package stopwords to /root/nltk_data...\n",
            "[nltk_data]   Package stopwords is already up-to-date!\n",
            "[nltk_data] Downloading package punkt_tab to /root/nltk_data...\n",
            "[nltk_data]   Package punkt_tab is already up-to-date!\n",
            "[nltk_data] Downloading package stopwords to /root/nltk_data...\n",
            "[nltk_data]   Package stopwords is already up-to-date!\n",
            "[nltk_data] Downloading package punkt_tab to /root/nltk_data...\n",
            "[nltk_data]   Package punkt_tab is already up-to-date!\n",
            "[nltk_data] Downloading package stopwords to /root/nltk_data...\n",
            "[nltk_data]   Package stopwords is already up-to-date!\n",
            "[nltk_data] Downloading package punkt_tab to /root/nltk_data...\n",
            "[nltk_data]   Package punkt_tab is already up-to-date!\n",
            "[nltk_data] Downloading package stopwords to /root/nltk_data...\n",
            "[nltk_data]   Package stopwords is already up-to-date!\n",
            "[nltk_data] Downloading package punkt_tab to /root/nltk_data...\n",
            "[nltk_data]   Package punkt_tab is already up-to-date!\n",
            "[nltk_data] Downloading package stopwords to /root/nltk_data...\n",
            "[nltk_data]   Package stopwords is already up-to-date!\n",
            "[nltk_data] Downloading package punkt_tab to /root/nltk_data...\n",
            "[nltk_data]   Package punkt_tab is already up-to-date!\n",
            "[nltk_data] Downloading package stopwords to /root/nltk_data...\n",
            "[nltk_data]   Package stopwords is already up-to-date!\n",
            "[nltk_data] Downloading package punkt_tab to /root/nltk_data...\n",
            "[nltk_data]   Package punkt_tab is already up-to-date!\n",
            "[nltk_data] Downloading package stopwords to /root/nltk_data...\n",
            "[nltk_data]   Package stopwords is already up-to-date!\n",
            "[nltk_data] Downloading package punkt_tab to /root/nltk_data...\n",
            "[nltk_data]   Package punkt_tab is already up-to-date!\n",
            "[nltk_data] Downloading package stopwords to /root/nltk_data...\n",
            "[nltk_data]   Package stopwords is already up-to-date!\n",
            "[nltk_data] Downloading package punkt_tab to /root/nltk_data...\n",
            "[nltk_data]   Package punkt_tab is already up-to-date!\n",
            "[nltk_data] Downloading package stopwords to /root/nltk_data...\n",
            "[nltk_data]   Package stopwords is already up-to-date!\n",
            "[nltk_data] Downloading package punkt_tab to /root/nltk_data...\n",
            "[nltk_data]   Package punkt_tab is already up-to-date!\n",
            "[nltk_data] Downloading package stopwords to /root/nltk_data...\n",
            "[nltk_data]   Package stopwords is already up-to-date!\n",
            "[nltk_data] Downloading package punkt_tab to /root/nltk_data...\n",
            "[nltk_data]   Package punkt_tab is already up-to-date!\n",
            "[nltk_data] Downloading package stopwords to /root/nltk_data...\n",
            "[nltk_data]   Package stopwords is already up-to-date!\n",
            "[nltk_data] Downloading package punkt_tab to /root/nltk_data...\n",
            "[nltk_data]   Package punkt_tab is already up-to-date!\n",
            "[nltk_data] Downloading package stopwords to /root/nltk_data...\n",
            "[nltk_data]   Package stopwords is already up-to-date!\n",
            "[nltk_data] Downloading package punkt_tab to /root/nltk_data...\n",
            "[nltk_data]   Package punkt_tab is already up-to-date!\n",
            "[nltk_data] Downloading package stopwords to /root/nltk_data...\n",
            "[nltk_data]   Package stopwords is already up-to-date!\n",
            "[nltk_data] Downloading package punkt_tab to /root/nltk_data...\n",
            "[nltk_data]   Package punkt_tab is already up-to-date!\n",
            "[nltk_data] Downloading package stopwords to /root/nltk_data...\n",
            "[nltk_data]   Package stopwords is already up-to-date!\n",
            "[nltk_data] Downloading package punkt_tab to /root/nltk_data...\n",
            "[nltk_data]   Package punkt_tab is already up-to-date!\n",
            "[nltk_data] Downloading package stopwords to /root/nltk_data...\n",
            "[nltk_data]   Package stopwords is already up-to-date!\n",
            "[nltk_data] Downloading package punkt_tab to /root/nltk_data...\n",
            "[nltk_data]   Package punkt_tab is already up-to-date!\n",
            "[nltk_data] Downloading package stopwords to /root/nltk_data...\n",
            "[nltk_data]   Package stopwords is already up-to-date!\n",
            "[nltk_data] Downloading package punkt_tab to /root/nltk_data...\n",
            "[nltk_data]   Package punkt_tab is already up-to-date!\n",
            "[nltk_data] Downloading package stopwords to /root/nltk_data...\n",
            "[nltk_data]   Package stopwords is already up-to-date!\n",
            "[nltk_data] Downloading package punkt_tab to /root/nltk_data...\n",
            "[nltk_data]   Package punkt_tab is already up-to-date!\n",
            "[nltk_data] Downloading package stopwords to /root/nltk_data...\n",
            "[nltk_data]   Package stopwords is already up-to-date!\n",
            "[nltk_data] Downloading package punkt_tab to /root/nltk_data...\n",
            "[nltk_data]   Package punkt_tab is already up-to-date!\n",
            "[nltk_data] Downloading package stopwords to /root/nltk_data...\n",
            "[nltk_data]   Package stopwords is already up-to-date!\n",
            "[nltk_data] Downloading package punkt_tab to /root/nltk_data...\n",
            "[nltk_data]   Package punkt_tab is already up-to-date!\n",
            "[nltk_data] Downloading package stopwords to /root/nltk_data...\n",
            "[nltk_data]   Package stopwords is already up-to-date!\n",
            "[nltk_data] Downloading package punkt_tab to /root/nltk_data...\n",
            "[nltk_data]   Package punkt_tab is already up-to-date!\n",
            "[nltk_data] Downloading package stopwords to /root/nltk_data...\n",
            "[nltk_data]   Package stopwords is already up-to-date!\n",
            "[nltk_data] Downloading package punkt_tab to /root/nltk_data...\n",
            "[nltk_data]   Package punkt_tab is already up-to-date!\n",
            "[nltk_data] Downloading package stopwords to /root/nltk_data...\n",
            "[nltk_data]   Package stopwords is already up-to-date!\n",
            "[nltk_data] Downloading package punkt_tab to /root/nltk_data...\n",
            "[nltk_data]   Package punkt_tab is already up-to-date!\n",
            "[nltk_data] Downloading package stopwords to /root/nltk_data...\n",
            "[nltk_data]   Package stopwords is already up-to-date!\n",
            "[nltk_data] Downloading package punkt_tab to /root/nltk_data...\n",
            "[nltk_data]   Package punkt_tab is already up-to-date!\n",
            "[nltk_data] Downloading package stopwords to /root/nltk_data...\n",
            "[nltk_data]   Package stopwords is already up-to-date!\n",
            "[nltk_data] Downloading package punkt_tab to /root/nltk_data...\n",
            "[nltk_data]   Package punkt_tab is already up-to-date!\n",
            "[nltk_data] Downloading package stopwords to /root/nltk_data...\n",
            "[nltk_data]   Package stopwords is already up-to-date!\n",
            "[nltk_data] Downloading package punkt_tab to /root/nltk_data...\n",
            "[nltk_data]   Package punkt_tab is already up-to-date!\n",
            "[nltk_data] Downloading package stopwords to /root/nltk_data...\n",
            "[nltk_data]   Package stopwords is already up-to-date!\n",
            "[nltk_data] Downloading package punkt_tab to /root/nltk_data...\n",
            "[nltk_data]   Package punkt_tab is already up-to-date!\n",
            "[nltk_data] Downloading package stopwords to /root/nltk_data...\n",
            "[nltk_data]   Package stopwords is already up-to-date!\n",
            "[nltk_data] Downloading package punkt_tab to /root/nltk_data...\n",
            "[nltk_data]   Package punkt_tab is already up-to-date!\n",
            "[nltk_data] Downloading package stopwords to /root/nltk_data...\n",
            "[nltk_data]   Package stopwords is already up-to-date!\n",
            "[nltk_data] Downloading package punkt_tab to /root/nltk_data...\n",
            "[nltk_data]   Package punkt_tab is already up-to-date!\n",
            "[nltk_data] Downloading package stopwords to /root/nltk_data...\n",
            "[nltk_data]   Package stopwords is already up-to-date!\n",
            "[nltk_data] Downloading package punkt_tab to /root/nltk_data...\n",
            "[nltk_data]   Package punkt_tab is already up-to-date!\n",
            "[nltk_data] Downloading package stopwords to /root/nltk_data...\n",
            "[nltk_data]   Package stopwords is already up-to-date!\n",
            "[nltk_data] Downloading package punkt_tab to /root/nltk_data...\n",
            "[nltk_data]   Package punkt_tab is already up-to-date!\n",
            "[nltk_data] Downloading package stopwords to /root/nltk_data...\n",
            "[nltk_data]   Package stopwords is already up-to-date!\n",
            "[nltk_data] Downloading package punkt_tab to /root/nltk_data...\n",
            "[nltk_data]   Package punkt_tab is already up-to-date!\n",
            "[nltk_data] Downloading package stopwords to /root/nltk_data...\n",
            "[nltk_data]   Package stopwords is already up-to-date!\n",
            "[nltk_data] Downloading package punkt_tab to /root/nltk_data...\n",
            "[nltk_data]   Package punkt_tab is already up-to-date!\n",
            "[nltk_data] Downloading package stopwords to /root/nltk_data...\n",
            "[nltk_data]   Package stopwords is already up-to-date!\n",
            "[nltk_data] Downloading package punkt_tab to /root/nltk_data...\n",
            "[nltk_data]   Package punkt_tab is already up-to-date!\n",
            "[nltk_data] Downloading package stopwords to /root/nltk_data...\n",
            "[nltk_data]   Package stopwords is already up-to-date!\n",
            "[nltk_data] Downloading package punkt_tab to /root/nltk_data...\n",
            "[nltk_data]   Package punkt_tab is already up-to-date!\n",
            "[nltk_data] Downloading package stopwords to /root/nltk_data...\n",
            "[nltk_data]   Package stopwords is already up-to-date!\n",
            "[nltk_data] Downloading package punkt_tab to /root/nltk_data...\n",
            "[nltk_data]   Package punkt_tab is already up-to-date!\n",
            "[nltk_data] Downloading package stopwords to /root/nltk_data...\n",
            "[nltk_data]   Package stopwords is already up-to-date!\n",
            "[nltk_data] Downloading package punkt_tab to /root/nltk_data...\n",
            "[nltk_data]   Package punkt_tab is already up-to-date!\n",
            "[nltk_data] Downloading package stopwords to /root/nltk_data...\n",
            "[nltk_data]   Package stopwords is already up-to-date!\n",
            "[nltk_data] Downloading package punkt_tab to /root/nltk_data...\n",
            "[nltk_data]   Package punkt_tab is already up-to-date!\n",
            "[nltk_data] Downloading package stopwords to /root/nltk_data...\n",
            "[nltk_data]   Package stopwords is already up-to-date!\n",
            "[nltk_data] Downloading package punkt_tab to /root/nltk_data...\n",
            "[nltk_data]   Package punkt_tab is already up-to-date!\n",
            "[nltk_data] Downloading package stopwords to /root/nltk_data...\n",
            "[nltk_data]   Package stopwords is already up-to-date!\n",
            "[nltk_data] Downloading package punkt_tab to /root/nltk_data...\n",
            "[nltk_data]   Package punkt_tab is already up-to-date!\n",
            "[nltk_data] Downloading package stopwords to /root/nltk_data...\n",
            "[nltk_data]   Package stopwords is already up-to-date!\n",
            "[nltk_data] Downloading package punkt_tab to /root/nltk_data...\n",
            "[nltk_data]   Package punkt_tab is already up-to-date!\n",
            "[nltk_data] Downloading package stopwords to /root/nltk_data...\n",
            "[nltk_data]   Package stopwords is already up-to-date!\n",
            "[nltk_data] Downloading package punkt_tab to /root/nltk_data...\n",
            "[nltk_data]   Package punkt_tab is already up-to-date!\n",
            "[nltk_data] Downloading package stopwords to /root/nltk_data...\n",
            "[nltk_data]   Package stopwords is already up-to-date!\n",
            "[nltk_data] Downloading package punkt_tab to /root/nltk_data...\n",
            "[nltk_data]   Package punkt_tab is already up-to-date!\n",
            "[nltk_data] Downloading package stopwords to /root/nltk_data...\n",
            "[nltk_data]   Package stopwords is already up-to-date!\n",
            "[nltk_data] Downloading package punkt_tab to /root/nltk_data...\n",
            "[nltk_data]   Package punkt_tab is already up-to-date!\n",
            "[nltk_data] Downloading package stopwords to /root/nltk_data...\n",
            "[nltk_data]   Package stopwords is already up-to-date!\n",
            "[nltk_data] Downloading package punkt_tab to /root/nltk_data...\n",
            "[nltk_data]   Package punkt_tab is already up-to-date!\n",
            "[nltk_data] Downloading package stopwords to /root/nltk_data...\n",
            "[nltk_data]   Package stopwords is already up-to-date!\n",
            "[nltk_data] Downloading package punkt_tab to /root/nltk_data...\n",
            "[nltk_data]   Package punkt_tab is already up-to-date!\n",
            "[nltk_data] Downloading package stopwords to /root/nltk_data...\n",
            "[nltk_data]   Package stopwords is already up-to-date!\n",
            "[nltk_data] Downloading package punkt_tab to /root/nltk_data...\n",
            "[nltk_data]   Package punkt_tab is already up-to-date!\n",
            "[nltk_data] Downloading package stopwords to /root/nltk_data...\n",
            "[nltk_data]   Package stopwords is already up-to-date!\n",
            "[nltk_data] Downloading package punkt_tab to /root/nltk_data...\n",
            "[nltk_data]   Package punkt_tab is already up-to-date!\n",
            "[nltk_data] Downloading package stopwords to /root/nltk_data...\n",
            "[nltk_data]   Package stopwords is already up-to-date!\n",
            "[nltk_data] Downloading package punkt_tab to /root/nltk_data...\n",
            "[nltk_data]   Package punkt_tab is already up-to-date!\n",
            "[nltk_data] Downloading package stopwords to /root/nltk_data...\n",
            "[nltk_data]   Package stopwords is already up-to-date!\n",
            "[nltk_data] Downloading package punkt_tab to /root/nltk_data...\n",
            "[nltk_data]   Package punkt_tab is already up-to-date!\n",
            "[nltk_data] Downloading package stopwords to /root/nltk_data...\n",
            "[nltk_data]   Package stopwords is already up-to-date!\n",
            "[nltk_data] Downloading package punkt_tab to /root/nltk_data...\n",
            "[nltk_data]   Package punkt_tab is already up-to-date!\n",
            "[nltk_data] Downloading package stopwords to /root/nltk_data...\n",
            "[nltk_data]   Package stopwords is already up-to-date!\n",
            "[nltk_data] Downloading package punkt_tab to /root/nltk_data...\n",
            "[nltk_data]   Package punkt_tab is already up-to-date!\n",
            "[nltk_data] Downloading package stopwords to /root/nltk_data...\n",
            "[nltk_data]   Package stopwords is already up-to-date!\n",
            "[nltk_data] Downloading package punkt_tab to /root/nltk_data...\n",
            "[nltk_data]   Package punkt_tab is already up-to-date!\n",
            "[nltk_data] Downloading package stopwords to /root/nltk_data...\n",
            "[nltk_data]   Package stopwords is already up-to-date!\n",
            "[nltk_data] Downloading package punkt_tab to /root/nltk_data...\n",
            "[nltk_data]   Package punkt_tab is already up-to-date!\n",
            "[nltk_data] Downloading package stopwords to /root/nltk_data...\n",
            "[nltk_data]   Package stopwords is already up-to-date!\n"
          ]
        }
      ]
    },
    {
      "cell_type": "code",
      "source": [
        "resumen_referencia"
      ],
      "metadata": {
        "colab": {
          "base_uri": "https://localhost:8080/",
          "height": 174
        },
        "id": "mQj-aGJr6ii_",
        "outputId": "0d00e759-3384-4a7a-f732-d8aff93d13f7"
      },
      "execution_count": null,
      "outputs": [
        {
          "output_type": "execute_result",
          "data": {
            "text/plain": [
              "'Facebook fue lanzado el 4 de febrero de 2004 por Mark Zuckerberg y varios compañeros durante sus años en Harvard. Inicialmente se llamó TheFacebook y rápidamente ganó popularidad entre los estudiantes universitarios. En 2005 compraron el dominio facebook.com y en 2006 la red se abrió al público general, permitiendo también el acceso a empresas para marketing y publicidad.\\n\\nEn 2008, Zuckerberg ya era millonario y la red social había superado a MySpace. Ese mismo año resolvió una disputa legal con antiguos compañeros, comprando su proyecto ConnectU. A lo largo del tiempo, Facebook incorporó funciones clave como el botón de \"me gusta\", grupos, videollamadas, y adquirió empresas como Instagram (2012) y posteriormente WhatsApp. También en 2012 salió a bolsa, recaudando 16.000 millones de dólares y alcanzando los mil millones de usuarios.\\n\\nLa plataforma ha enfrentado varias polémicas relacionadas con la privacidad y el uso de datos, incluyendo una sanción en 2017 por parte de la Agencia Española de Protección de Datos y un ciberataque en 2018 que expuso información de más de 50 millones de usuarios. En 2021, la empresa adoptó el nombre Meta para reflejar su nuevo objetivo: construir el metaverso.'"
            ],
            "application/vnd.google.colaboratory.intrinsic+json": {
              "type": "string"
            }
          },
          "metadata": {},
          "execution_count": 26
        }
      ]
    },
    {
      "cell_type": "code",
      "source": [
        "resultado_tf_idf"
      ],
      "metadata": {
        "colab": {
          "base_uri": "https://localhost:8080/",
          "height": 209
        },
        "id": "qh_o8IBF6Ige",
        "outputId": "e4b1f079-2400-45b4-f26c-5c5fea64f2f8"
      },
      "execution_count": null,
      "outputs": [
        {
          "output_type": "execute_result",
          "data": {
            "text/plain": [
              "'Breve historia de Facebook. La plataforma fue cerrada, pero su éxito se había hecho evidente: en 4 horas acumuló más de 22. 000 visitas. Zuckerberg aprendió algo: el potencial que esconde una red social universitaria. Tuvo entonces una idea mayor. El sitio fue un éxito inmediato y en 24 horas, TheFacebook tenía ya 1. 200 usuarios registrados. Un mes después, la mitad de estudiantes de Harvard había creado sus perfiles. En los meses posteriores a su creación, TheFacebook creció rápidamente. En agosto del año 2005, la empresa compró el dominio facebook. com, que le costó 200. 000 dólares y renunció al \\'The\\': a partir de entonces fue solo Facebook. En septiembre, Facebook se abrió a los estudiantes de secundaria. A finales de año, la plataforma ya tenía seis millones de usuarios. En diciembre de este año, los usuarios habían aumentado hasta los doce millones. En el año 2008, Zuckerberg tenía 24 años y ya era millonario. Pero el caso que le enfrentaba con sus antiguos compañeros de clase continuaba abierto. Hemos hecho una elipsis de unos cuantos años. Pero os imagináis el éxito. El 2012, es sin embargo uno de esos años en los que vale la pena detenerse. La oferta pública inicial (IPO) de Facebook recaudó 16. 000 millones de dólares, lo que le da un valor de mercado de 102. 400 millones. 900 millones de dólares. Zuckerberg se disculpó. Las palabras escogidas por el fundador, fueron estas: \"Lamento todo lo que han pasado. '"
            ],
            "application/vnd.google.colaboratory.intrinsic+json": {
              "type": "string"
            }
          },
          "metadata": {},
          "execution_count": 31
        }
      ]
    },
    {
      "cell_type": "code",
      "source": [
        "resultado_oracion_larga"
      ],
      "metadata": {
        "colab": {
          "base_uri": "https://localhost:8080/",
          "height": 174
        },
        "id": "MnlC6YGD6SsF",
        "outputId": "64606918-ad11-40d1-f5e9-03a7c795a90d"
      },
      "execution_count": null,
      "outputs": [
        {
          "output_type": "execute_result",
          "data": {
            "text/plain": [
              "'Facebook pagó con 1,2 millones en acciones a cada uno de los tres estudiantes que habían acusado a Zuckerberg (Divya Narendra, Tyler Winklevoss y Cameron Winklevoss) y la empresa se comprometió a la compra de ConnectU, la plataforma que estaban creando los otros estudiantes en el momento en el que Zuckerberg ideó Facebook. En el año 2017, la Agencia Española de Protección de Datos impuso una sanción a Facebook de 1,2 millones de euros por vulnerar la normativa sobre protección de datos personales de los usuarios y demostró que Facebook almacenaba y usaba información de los usuarios para fines publicitarios y sin autorización previa. En la sala, estaban los familiares de niños y niñas que supuestamente habían sido perjudicados por las redes sociales: víctimas de abusos sexuales, extorsiones y daños en la salud mental -aunque sobre estos últimos, Zuckerberg defendió que no había suficiente evidencia científica que lo demostrara-. Nadie debería pasar por las cosas que sus familias han sufrido y es por eso que invertimos tanto y vamos a continuar haciendo esfuerzos en toda la industria para asegurarnos de que nadie tenga pasar por las cosas que sus familias han tenido que sufrir\".'"
            ],
            "application/vnd.google.colaboratory.intrinsic+json": {
              "type": "string"
            }
          },
          "metadata": {},
          "execution_count": 28
        }
      ]
    },
    {
      "cell_type": "code",
      "source": [
        "resultados_1"
      ],
      "metadata": {
        "colab": {
          "base_uri": "https://localhost:8080/"
        },
        "id": "xhzT14DJ7bbH",
        "outputId": "8447c2fe-f639-4c75-9943-8f560771a278"
      },
      "execution_count": null,
      "outputs": [
        {
          "output_type": "execute_result",
          "data": {
            "text/plain": [
              "{'rouge1': Score(precision=0.3843283582089552, recall=0.49047619047619045, fmeasure=0.43096234309623427),\n",
              " 'rouge2': Score(precision=0.11610486891385768, recall=0.14832535885167464, fmeasure=0.13025210084033612),\n",
              " 'rougeL': Score(precision=0.1791044776119403, recall=0.22857142857142856, fmeasure=0.200836820083682)}"
            ]
          },
          "metadata": {},
          "execution_count": 33
        }
      ]
    },
    {
      "cell_type": "code",
      "source": [
        "resultados_2"
      ],
      "metadata": {
        "colab": {
          "base_uri": "https://localhost:8080/"
        },
        "id": "polg4nlF8NyR",
        "outputId": "ce0f4a1c-9d48-4c71-d3ef-3d480e21e4a4"
      },
      "execution_count": null,
      "outputs": [
        {
          "output_type": "execute_result",
          "data": {
            "text/plain": [
              "{'rouge1': Score(precision=0.41037735849056606, recall=0.4142857142857143, fmeasure=0.4123222748815166),\n",
              " 'rouge2': Score(precision=0.0995260663507109, recall=0.10047846889952153, fmeasure=0.09999999999999999),\n",
              " 'rougeL': Score(precision=0.17452830188679244, recall=0.1761904761904762, fmeasure=0.17535545023696683)}"
            ]
          },
          "metadata": {},
          "execution_count": 34
        }
      ]
    },
    {
      "cell_type": "markdown",
      "source": [
        "# Observaciones"
      ],
      "metadata": {
        "id": "1w21A8zW81ed"
      }
    },
    {
      "cell_type": "markdown",
      "source": [
        "1. **TIpos de errores apreciables:**  \n",
        "\n",
        "  -   Continuos fallos en la fluidez del resumen. Tanto el método de la oración más larga como el de TF-IDF no cerraban las ideas que desarrollaban y tenían estructuras gramaticales extrañas.\n",
        "  -   Algunas de las ideas principales de los textos se perdían.\n",
        "\n",
        "\n",
        "\n",
        "2. **Posibles mejoras:**\n",
        "\n",
        "  - Para el método TF-IDF idealmente se debería proporcionar los conceptos clave que sean de interés.\n",
        "  - En el caso de los artículos (en nuestro caso de estudio la historia de Facebook), detectar los subtemas de los que se compone el texto podría servir para extraer las ideas principales de cada parte."
      ],
      "metadata": {
        "id": "ZR49D9wR9X12"
      }
    }
  ]
}